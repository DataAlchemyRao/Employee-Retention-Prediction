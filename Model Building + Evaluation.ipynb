{
 "cells": [
  {
   "cell_type": "markdown",
   "id": "2b341e69",
   "metadata": {},
   "source": [
    "## <font color = 'blue'><b> Import DataSet and Libraries"
   ]
  },
  {
   "cell_type": "code",
   "execution_count": 1,
   "id": "6232397a",
   "metadata": {},
   "outputs": [],
   "source": [
    "import pandas as pd\n",
    "import numpy as np\n",
    "import seaborn as sns\n",
    "import matplotlib.pyplot as plt\n",
    "pd.set_option('display.max_columns' , None)\n",
    "import warnings\n",
    "warnings.filterwarnings('ignore')\n",
    "from sklearn.model_selection import train_test_split\n",
    "from sklearn.preprocessing import StandardScaler\n",
    "import statsmodels.api as sm\n",
    "from sklearn.linear_model import LogisticRegression\n",
    "from sklearn.feature_selection import RFE\n",
    "from sklearn.metrics import accuracy_score\n",
    "from sklearn.metrics import confusion_matrix, classification_report\n",
    "from statsmodels.stats.outliers_influence import variance_inflation_factor\n",
    "from sklearn import metrics"
   ]
  },
  {
   "cell_type": "code",
   "execution_count": 2,
   "id": "0281390a",
   "metadata": {},
   "outputs": [],
   "source": [
    "X_train = pd.read_csv('X_train.csv')\n",
    "y_train = pd.read_csv('y_train.csv')"
   ]
  },
  {
   "cell_type": "markdown",
   "id": "b277edb9",
   "metadata": {},
   "source": [
    "## <font color = 'blue'><b> Model Building"
   ]
  },
  {
   "cell_type": "code",
   "execution_count": 3,
   "id": "db9f639a",
   "metadata": {},
   "outputs": [
    {
     "data": {
      "text/html": [
       "<table class=\"simpletable\">\n",
       "<caption>Generalized Linear Model Regression Results</caption>\n",
       "<tr>\n",
       "  <th>Dep. Variable:</th>       <td>Attrition</td>    <th>  No. Observations:  </th>  <td>  1029</td> \n",
       "</tr>\n",
       "<tr>\n",
       "  <th>Model:</th>                  <td>GLM</td>       <th>  Df Residuals:      </th>  <td>   984</td> \n",
       "</tr>\n",
       "<tr>\n",
       "  <th>Model Family:</th>        <td>Binomial</td>     <th>  Df Model:          </th>  <td>    44</td> \n",
       "</tr>\n",
       "<tr>\n",
       "  <th>Link Function:</th>         <td>Logit</td>      <th>  Scale:             </th> <td>  1.0000</td>\n",
       "</tr>\n",
       "<tr>\n",
       "  <th>Method:</th>                <td>IRLS</td>       <th>  Log-Likelihood:    </th> <td> -279.55</td>\n",
       "</tr>\n",
       "<tr>\n",
       "  <th>Date:</th>            <td>Wed, 24 Apr 2024</td> <th>  Deviance:          </th> <td>  559.10</td>\n",
       "</tr>\n",
       "<tr>\n",
       "  <th>Time:</th>                <td>15:58:17</td>     <th>  Pearson chi2:      </th> <td>2.94e+03</td>\n",
       "</tr>\n",
       "<tr>\n",
       "  <th>No. Iterations:</th>         <td>21</td>        <th>  Pseudo R-squ. (CS):</th>  <td>0.2908</td> \n",
       "</tr>\n",
       "<tr>\n",
       "  <th>Covariance Type:</th>     <td>nonrobust</td>    <th>                     </th>     <td> </td>   \n",
       "</tr>\n",
       "</table>\n",
       "<table class=\"simpletable\">\n",
       "<tr>\n",
       "                  <td></td>                     <th>coef</th>     <th>std err</th>      <th>z</th>      <th>P>|z|</th>  <th>[0.025</th>    <th>0.975]</th>  \n",
       "</tr>\n",
       "<tr>\n",
       "  <th>const</th>                             <td>  -25.1510</td> <td> 1.58e+04</td> <td>   -0.002</td> <td> 0.999</td> <td> -3.1e+04</td> <td>  3.1e+04</td>\n",
       "</tr>\n",
       "<tr>\n",
       "  <th>BusinessTravel_Travel_Frequently</th>  <td>    1.9853</td> <td>    0.506</td> <td>    3.927</td> <td> 0.000</td> <td>    0.994</td> <td>    2.976</td>\n",
       "</tr>\n",
       "<tr>\n",
       "  <th>BusinessTravel_Travel_Rarely</th>      <td>    0.9920</td> <td>    0.467</td> <td>    2.126</td> <td> 0.034</td> <td>    0.077</td> <td>    1.907</td>\n",
       "</tr>\n",
       "<tr>\n",
       "  <th>Department_Research & Development</th> <td>   19.6289</td> <td> 1.58e+04</td> <td>    0.001</td> <td> 0.999</td> <td> -3.1e+04</td> <td>  3.1e+04</td>\n",
       "</tr>\n",
       "<tr>\n",
       "  <th>Department_Sales</th>                  <td>   19.2620</td> <td> 1.58e+04</td> <td>    0.001</td> <td> 0.999</td> <td> -3.1e+04</td> <td>  3.1e+04</td>\n",
       "</tr>\n",
       "<tr>\n",
       "  <th>EducationField_Life Sciences</th>      <td>   -0.7083</td> <td>    0.986</td> <td>   -0.719</td> <td> 0.472</td> <td>   -2.640</td> <td>    1.224</td>\n",
       "</tr>\n",
       "<tr>\n",
       "  <th>EducationField_Marketing</th>          <td>   -0.2729</td> <td>    1.056</td> <td>   -0.258</td> <td> 0.796</td> <td>   -2.343</td> <td>    1.797</td>\n",
       "</tr>\n",
       "<tr>\n",
       "  <th>EducationField_Medical</th>            <td>   -0.9618</td> <td>    0.987</td> <td>   -0.974</td> <td> 0.330</td> <td>   -2.897</td> <td>    0.973</td>\n",
       "</tr>\n",
       "<tr>\n",
       "  <th>EducationField_Other</th>              <td>   -0.7156</td> <td>    1.101</td> <td>   -0.650</td> <td> 0.516</td> <td>   -2.874</td> <td>    1.442</td>\n",
       "</tr>\n",
       "<tr>\n",
       "  <th>EducationField_Technical Degree</th>   <td>    0.2516</td> <td>    1.003</td> <td>    0.251</td> <td> 0.802</td> <td>   -1.715</td> <td>    2.218</td>\n",
       "</tr>\n",
       "<tr>\n",
       "  <th>Gender_Male</th>                       <td>    0.4795</td> <td>    0.234</td> <td>    2.051</td> <td> 0.040</td> <td>    0.021</td> <td>    0.938</td>\n",
       "</tr>\n",
       "<tr>\n",
       "  <th>JobRole_Human Resources</th>           <td>   20.8584</td> <td> 1.58e+04</td> <td>    0.001</td> <td> 0.999</td> <td> -3.1e+04</td> <td>  3.1e+04</td>\n",
       "</tr>\n",
       "<tr>\n",
       "  <th>JobRole_Laboratory Technician</th>     <td>    1.6141</td> <td>    0.632</td> <td>    2.556</td> <td> 0.011</td> <td>    0.376</td> <td>    2.852</td>\n",
       "</tr>\n",
       "<tr>\n",
       "  <th>JobRole_Manager</th>                   <td>    1.1859</td> <td>    1.175</td> <td>    1.010</td> <td> 0.313</td> <td>   -1.117</td> <td>    3.488</td>\n",
       "</tr>\n",
       "<tr>\n",
       "  <th>JobRole_Manufacturing Director</th>    <td>    0.1915</td> <td>    0.739</td> <td>    0.259</td> <td> 0.796</td> <td>   -1.257</td> <td>    1.640</td>\n",
       "</tr>\n",
       "<tr>\n",
       "  <th>JobRole_Research Director</th>         <td>   -0.0011</td> <td>    1.351</td> <td>   -0.001</td> <td> 0.999</td> <td>   -2.649</td> <td>    2.647</td>\n",
       "</tr>\n",
       "<tr>\n",
       "  <th>JobRole_Research Scientist</th>        <td>    0.5602</td> <td>    0.647</td> <td>    0.866</td> <td> 0.387</td> <td>   -0.708</td> <td>    1.828</td>\n",
       "</tr>\n",
       "<tr>\n",
       "  <th>JobRole_Sales Executive</th>           <td>    1.8634</td> <td>    1.558</td> <td>    1.196</td> <td> 0.232</td> <td>   -1.191</td> <td>    4.917</td>\n",
       "</tr>\n",
       "<tr>\n",
       "  <th>JobRole_Sales Representative</th>      <td>    2.3793</td> <td>    1.611</td> <td>    1.477</td> <td> 0.140</td> <td>   -0.778</td> <td>    5.537</td>\n",
       "</tr>\n",
       "<tr>\n",
       "  <th>MaritalStatus_Married</th>             <td>    0.4125</td> <td>    0.332</td> <td>    1.242</td> <td> 0.214</td> <td>   -0.238</td> <td>    1.063</td>\n",
       "</tr>\n",
       "<tr>\n",
       "  <th>MaritalStatus_Single</th>              <td>    1.0627</td> <td>    0.430</td> <td>    2.473</td> <td> 0.013</td> <td>    0.220</td> <td>    1.905</td>\n",
       "</tr>\n",
       "<tr>\n",
       "  <th>Age</th>                               <td>   -0.2625</td> <td>    0.149</td> <td>   -1.766</td> <td> 0.077</td> <td>   -0.554</td> <td>    0.029</td>\n",
       "</tr>\n",
       "<tr>\n",
       "  <th>DailyRate</th>                         <td>   -0.1465</td> <td>    0.112</td> <td>   -1.311</td> <td> 0.190</td> <td>   -0.366</td> <td>    0.073</td>\n",
       "</tr>\n",
       "<tr>\n",
       "  <th>DistanceFromHome</th>                  <td>    0.4532</td> <td>    0.114</td> <td>    3.988</td> <td> 0.000</td> <td>    0.230</td> <td>    0.676</td>\n",
       "</tr>\n",
       "<tr>\n",
       "  <th>Education</th>                         <td>    0.0191</td> <td>    0.111</td> <td>    0.172</td> <td> 0.864</td> <td>   -0.199</td> <td>    0.237</td>\n",
       "</tr>\n",
       "<tr>\n",
       "  <th>EnvironmentSatisfaction</th>           <td>   -0.4595</td> <td>    0.114</td> <td>   -4.033</td> <td> 0.000</td> <td>   -0.683</td> <td>   -0.236</td>\n",
       "</tr>\n",
       "<tr>\n",
       "  <th>HourlyRate</th>                        <td>   -0.0470</td> <td>    0.114</td> <td>   -0.412</td> <td> 0.680</td> <td>   -0.271</td> <td>    0.177</td>\n",
       "</tr>\n",
       "<tr>\n",
       "  <th>JobInvolvement</th>                    <td>   -0.4643</td> <td>    0.112</td> <td>   -4.130</td> <td> 0.000</td> <td>   -0.685</td> <td>   -0.244</td>\n",
       "</tr>\n",
       "<tr>\n",
       "  <th>JobLevel</th>                          <td>   -0.4470</td> <td>    0.442</td> <td>   -1.011</td> <td> 0.312</td> <td>   -1.313</td> <td>    0.419</td>\n",
       "</tr>\n",
       "<tr>\n",
       "  <th>JobSatisfaction</th>                   <td>   -0.3980</td> <td>    0.113</td> <td>   -3.534</td> <td> 0.000</td> <td>   -0.619</td> <td>   -0.177</td>\n",
       "</tr>\n",
       "<tr>\n",
       "  <th>MonthlyIncome</th>                     <td>   -0.2514</td> <td>    0.473</td> <td>   -0.532</td> <td> 0.595</td> <td>   -1.178</td> <td>    0.675</td>\n",
       "</tr>\n",
       "<tr>\n",
       "  <th>MonthlyRate</th>                       <td>   -0.0362</td> <td>    0.112</td> <td>   -0.324</td> <td> 0.746</td> <td>   -0.256</td> <td>    0.183</td>\n",
       "</tr>\n",
       "<tr>\n",
       "  <th>NumCompaniesWorked</th>                <td>    0.5927</td> <td>    0.123</td> <td>    4.829</td> <td> 0.000</td> <td>    0.352</td> <td>    0.833</td>\n",
       "</tr>\n",
       "<tr>\n",
       "  <th>OverTime</th>                          <td>    2.2310</td> <td>    0.250</td> <td>    8.915</td> <td> 0.000</td> <td>    1.740</td> <td>    2.721</td>\n",
       "</tr>\n",
       "<tr>\n",
       "  <th>PercentSalaryHike</th>                 <td>    0.0543</td> <td>    0.183</td> <td>    0.298</td> <td> 0.766</td> <td>   -0.303</td> <td>    0.412</td>\n",
       "</tr>\n",
       "<tr>\n",
       "  <th>PerformanceRating</th>                 <td>   -0.0365</td> <td>    0.184</td> <td>   -0.198</td> <td> 0.843</td> <td>   -0.398</td> <td>    0.325</td>\n",
       "</tr>\n",
       "<tr>\n",
       "  <th>RelationshipSatisfaction</th>          <td>   -0.3171</td> <td>    0.113</td> <td>   -2.800</td> <td> 0.005</td> <td>   -0.539</td> <td>   -0.095</td>\n",
       "</tr>\n",
       "<tr>\n",
       "  <th>StockOptionLevel</th>                  <td>   -0.3559</td> <td>    0.201</td> <td>   -1.771</td> <td> 0.077</td> <td>   -0.750</td> <td>    0.038</td>\n",
       "</tr>\n",
       "<tr>\n",
       "  <th>TotalWorkingYears</th>                 <td>   -0.3797</td> <td>    0.275</td> <td>   -1.382</td> <td> 0.167</td> <td>   -0.918</td> <td>    0.159</td>\n",
       "</tr>\n",
       "<tr>\n",
       "  <th>TrainingTimesLastYear</th>             <td>   -0.1774</td> <td>    0.118</td> <td>   -1.501</td> <td> 0.133</td> <td>   -0.409</td> <td>    0.054</td>\n",
       "</tr>\n",
       "<tr>\n",
       "  <th>WorkLifeBalance</th>                   <td>   -0.3543</td> <td>    0.111</td> <td>   -3.188</td> <td> 0.001</td> <td>   -0.572</td> <td>   -0.136</td>\n",
       "</tr>\n",
       "<tr>\n",
       "  <th>YearsAtCompany</th>                    <td>    0.7161</td> <td>    0.322</td> <td>    2.227</td> <td> 0.026</td> <td>    0.086</td> <td>    1.346</td>\n",
       "</tr>\n",
       "<tr>\n",
       "  <th>YearsInCurrentRole</th>                <td>   -0.7957</td> <td>    0.218</td> <td>   -3.652</td> <td> 0.000</td> <td>   -1.223</td> <td>   -0.369</td>\n",
       "</tr>\n",
       "<tr>\n",
       "  <th>YearsSinceLastPromotion</th>           <td>    0.8901</td> <td>    0.192</td> <td>    4.636</td> <td> 0.000</td> <td>    0.514</td> <td>    1.266</td>\n",
       "</tr>\n",
       "<tr>\n",
       "  <th>YearsWithCurrManager</th>              <td>   -0.6759</td> <td>    0.208</td> <td>   -3.247</td> <td> 0.001</td> <td>   -1.084</td> <td>   -0.268</td>\n",
       "</tr>\n",
       "</table>"
      ],
      "text/latex": [
       "\\begin{center}\n",
       "\\begin{tabular}{lclc}\n",
       "\\toprule\n",
       "\\textbf{Dep. Variable:}                      &    Attrition     & \\textbf{  No. Observations:  } &     1029    \\\\\n",
       "\\textbf{Model:}                              &       GLM        & \\textbf{  Df Residuals:      } &      984    \\\\\n",
       "\\textbf{Model Family:}                       &     Binomial     & \\textbf{  Df Model:          } &       44    \\\\\n",
       "\\textbf{Link Function:}                      &      Logit       & \\textbf{  Scale:             } &    1.0000   \\\\\n",
       "\\textbf{Method:}                             &       IRLS       & \\textbf{  Log-Likelihood:    } &   -279.55   \\\\\n",
       "\\textbf{Date:}                               & Wed, 24 Apr 2024 & \\textbf{  Deviance:          } &    559.10   \\\\\n",
       "\\textbf{Time:}                               &     15:58:17     & \\textbf{  Pearson chi2:      } &  2.94e+03   \\\\\n",
       "\\textbf{No. Iterations:}                     &        21        & \\textbf{  Pseudo R-squ. (CS):} &   0.2908    \\\\\n",
       "\\textbf{Covariance Type:}                    &    nonrobust     & \\textbf{                     } &             \\\\\n",
       "\\bottomrule\n",
       "\\end{tabular}\n",
       "\\begin{tabular}{lcccccc}\n",
       "                                             & \\textbf{coef} & \\textbf{std err} & \\textbf{z} & \\textbf{P$> |$z$|$} & \\textbf{[0.025} & \\textbf{0.975]}  \\\\\n",
       "\\midrule\n",
       "\\textbf{const}                               &     -25.1510  &     1.58e+04     &    -0.002  &         0.999        &     -3.1e+04    &      3.1e+04     \\\\\n",
       "\\textbf{BusinessTravel\\_Travel\\_Frequently}  &       1.9853  &        0.506     &     3.927  &         0.000        &        0.994    &        2.976     \\\\\n",
       "\\textbf{BusinessTravel\\_Travel\\_Rarely}      &       0.9920  &        0.467     &     2.126  &         0.034        &        0.077    &        1.907     \\\\\n",
       "\\textbf{Department\\_Research \\& Development} &      19.6289  &     1.58e+04     &     0.001  &         0.999        &     -3.1e+04    &      3.1e+04     \\\\\n",
       "\\textbf{Department\\_Sales}                   &      19.2620  &     1.58e+04     &     0.001  &         0.999        &     -3.1e+04    &      3.1e+04     \\\\\n",
       "\\textbf{EducationField\\_Life Sciences}       &      -0.7083  &        0.986     &    -0.719  &         0.472        &       -2.640    &        1.224     \\\\\n",
       "\\textbf{EducationField\\_Marketing}           &      -0.2729  &        1.056     &    -0.258  &         0.796        &       -2.343    &        1.797     \\\\\n",
       "\\textbf{EducationField\\_Medical}             &      -0.9618  &        0.987     &    -0.974  &         0.330        &       -2.897    &        0.973     \\\\\n",
       "\\textbf{EducationField\\_Other}               &      -0.7156  &        1.101     &    -0.650  &         0.516        &       -2.874    &        1.442     \\\\\n",
       "\\textbf{EducationField\\_Technical Degree}    &       0.2516  &        1.003     &     0.251  &         0.802        &       -1.715    &        2.218     \\\\\n",
       "\\textbf{Gender\\_Male}                        &       0.4795  &        0.234     &     2.051  &         0.040        &        0.021    &        0.938     \\\\\n",
       "\\textbf{JobRole\\_Human Resources}            &      20.8584  &     1.58e+04     &     0.001  &         0.999        &     -3.1e+04    &      3.1e+04     \\\\\n",
       "\\textbf{JobRole\\_Laboratory Technician}      &       1.6141  &        0.632     &     2.556  &         0.011        &        0.376    &        2.852     \\\\\n",
       "\\textbf{JobRole\\_Manager}                    &       1.1859  &        1.175     &     1.010  &         0.313        &       -1.117    &        3.488     \\\\\n",
       "\\textbf{JobRole\\_Manufacturing Director}     &       0.1915  &        0.739     &     0.259  &         0.796        &       -1.257    &        1.640     \\\\\n",
       "\\textbf{JobRole\\_Research Director}          &      -0.0011  &        1.351     &    -0.001  &         0.999        &       -2.649    &        2.647     \\\\\n",
       "\\textbf{JobRole\\_Research Scientist}         &       0.5602  &        0.647     &     0.866  &         0.387        &       -0.708    &        1.828     \\\\\n",
       "\\textbf{JobRole\\_Sales Executive}            &       1.8634  &        1.558     &     1.196  &         0.232        &       -1.191    &        4.917     \\\\\n",
       "\\textbf{JobRole\\_Sales Representative}       &       2.3793  &        1.611     &     1.477  &         0.140        &       -0.778    &        5.537     \\\\\n",
       "\\textbf{MaritalStatus\\_Married}              &       0.4125  &        0.332     &     1.242  &         0.214        &       -0.238    &        1.063     \\\\\n",
       "\\textbf{MaritalStatus\\_Single}               &       1.0627  &        0.430     &     2.473  &         0.013        &        0.220    &        1.905     \\\\\n",
       "\\textbf{Age}                                 &      -0.2625  &        0.149     &    -1.766  &         0.077        &       -0.554    &        0.029     \\\\\n",
       "\\textbf{DailyRate}                           &      -0.1465  &        0.112     &    -1.311  &         0.190        &       -0.366    &        0.073     \\\\\n",
       "\\textbf{DistanceFromHome}                    &       0.4532  &        0.114     &     3.988  &         0.000        &        0.230    &        0.676     \\\\\n",
       "\\textbf{Education}                           &       0.0191  &        0.111     &     0.172  &         0.864        &       -0.199    &        0.237     \\\\\n",
       "\\textbf{EnvironmentSatisfaction}             &      -0.4595  &        0.114     &    -4.033  &         0.000        &       -0.683    &       -0.236     \\\\\n",
       "\\textbf{HourlyRate}                          &      -0.0470  &        0.114     &    -0.412  &         0.680        &       -0.271    &        0.177     \\\\\n",
       "\\textbf{JobInvolvement}                      &      -0.4643  &        0.112     &    -4.130  &         0.000        &       -0.685    &       -0.244     \\\\\n",
       "\\textbf{JobLevel}                            &      -0.4470  &        0.442     &    -1.011  &         0.312        &       -1.313    &        0.419     \\\\\n",
       "\\textbf{JobSatisfaction}                     &      -0.3980  &        0.113     &    -3.534  &         0.000        &       -0.619    &       -0.177     \\\\\n",
       "\\textbf{MonthlyIncome}                       &      -0.2514  &        0.473     &    -0.532  &         0.595        &       -1.178    &        0.675     \\\\\n",
       "\\textbf{MonthlyRate}                         &      -0.0362  &        0.112     &    -0.324  &         0.746        &       -0.256    &        0.183     \\\\\n",
       "\\textbf{NumCompaniesWorked}                  &       0.5927  &        0.123     &     4.829  &         0.000        &        0.352    &        0.833     \\\\\n",
       "\\textbf{OverTime}                            &       2.2310  &        0.250     &     8.915  &         0.000        &        1.740    &        2.721     \\\\\n",
       "\\textbf{PercentSalaryHike}                   &       0.0543  &        0.183     &     0.298  &         0.766        &       -0.303    &        0.412     \\\\\n",
       "\\textbf{PerformanceRating}                   &      -0.0365  &        0.184     &    -0.198  &         0.843        &       -0.398    &        0.325     \\\\\n",
       "\\textbf{RelationshipSatisfaction}            &      -0.3171  &        0.113     &    -2.800  &         0.005        &       -0.539    &       -0.095     \\\\\n",
       "\\textbf{StockOptionLevel}                    &      -0.3559  &        0.201     &    -1.771  &         0.077        &       -0.750    &        0.038     \\\\\n",
       "\\textbf{TotalWorkingYears}                   &      -0.3797  &        0.275     &    -1.382  &         0.167        &       -0.918    &        0.159     \\\\\n",
       "\\textbf{TrainingTimesLastYear}               &      -0.1774  &        0.118     &    -1.501  &         0.133        &       -0.409    &        0.054     \\\\\n",
       "\\textbf{WorkLifeBalance}                     &      -0.3543  &        0.111     &    -3.188  &         0.001        &       -0.572    &       -0.136     \\\\\n",
       "\\textbf{YearsAtCompany}                      &       0.7161  &        0.322     &     2.227  &         0.026        &        0.086    &        1.346     \\\\\n",
       "\\textbf{YearsInCurrentRole}                  &      -0.7957  &        0.218     &    -3.652  &         0.000        &       -1.223    &       -0.369     \\\\\n",
       "\\textbf{YearsSinceLastPromotion}             &       0.8901  &        0.192     &     4.636  &         0.000        &        0.514    &        1.266     \\\\\n",
       "\\textbf{YearsWithCurrManager}                &      -0.6759  &        0.208     &    -3.247  &         0.001        &       -1.084    &       -0.268     \\\\\n",
       "\\bottomrule\n",
       "\\end{tabular}\n",
       "%\\caption{Generalized Linear Model Regression Results}\n",
       "\\end{center}"
      ],
      "text/plain": [
       "<class 'statsmodels.iolib.summary.Summary'>\n",
       "\"\"\"\n",
       "                 Generalized Linear Model Regression Results                  \n",
       "==============================================================================\n",
       "Dep. Variable:              Attrition   No. Observations:                 1029\n",
       "Model:                            GLM   Df Residuals:                      984\n",
       "Model Family:                Binomial   Df Model:                           44\n",
       "Link Function:                  Logit   Scale:                          1.0000\n",
       "Method:                          IRLS   Log-Likelihood:                -279.55\n",
       "Date:                Wed, 24 Apr 2024   Deviance:                       559.10\n",
       "Time:                        15:58:17   Pearson chi2:                 2.94e+03\n",
       "No. Iterations:                    21   Pseudo R-squ. (CS):             0.2908\n",
       "Covariance Type:            nonrobust                                         \n",
       "=====================================================================================================\n",
       "                                        coef    std err          z      P>|z|      [0.025      0.975]\n",
       "-----------------------------------------------------------------------------------------------------\n",
       "const                               -25.1510   1.58e+04     -0.002      0.999    -3.1e+04     3.1e+04\n",
       "BusinessTravel_Travel_Frequently      1.9853      0.506      3.927      0.000       0.994       2.976\n",
       "BusinessTravel_Travel_Rarely          0.9920      0.467      2.126      0.034       0.077       1.907\n",
       "Department_Research & Development    19.6289   1.58e+04      0.001      0.999    -3.1e+04     3.1e+04\n",
       "Department_Sales                     19.2620   1.58e+04      0.001      0.999    -3.1e+04     3.1e+04\n",
       "EducationField_Life Sciences         -0.7083      0.986     -0.719      0.472      -2.640       1.224\n",
       "EducationField_Marketing             -0.2729      1.056     -0.258      0.796      -2.343       1.797\n",
       "EducationField_Medical               -0.9618      0.987     -0.974      0.330      -2.897       0.973\n",
       "EducationField_Other                 -0.7156      1.101     -0.650      0.516      -2.874       1.442\n",
       "EducationField_Technical Degree       0.2516      1.003      0.251      0.802      -1.715       2.218\n",
       "Gender_Male                           0.4795      0.234      2.051      0.040       0.021       0.938\n",
       "JobRole_Human Resources              20.8584   1.58e+04      0.001      0.999    -3.1e+04     3.1e+04\n",
       "JobRole_Laboratory Technician         1.6141      0.632      2.556      0.011       0.376       2.852\n",
       "JobRole_Manager                       1.1859      1.175      1.010      0.313      -1.117       3.488\n",
       "JobRole_Manufacturing Director        0.1915      0.739      0.259      0.796      -1.257       1.640\n",
       "JobRole_Research Director            -0.0011      1.351     -0.001      0.999      -2.649       2.647\n",
       "JobRole_Research Scientist            0.5602      0.647      0.866      0.387      -0.708       1.828\n",
       "JobRole_Sales Executive               1.8634      1.558      1.196      0.232      -1.191       4.917\n",
       "JobRole_Sales Representative          2.3793      1.611      1.477      0.140      -0.778       5.537\n",
       "MaritalStatus_Married                 0.4125      0.332      1.242      0.214      -0.238       1.063\n",
       "MaritalStatus_Single                  1.0627      0.430      2.473      0.013       0.220       1.905\n",
       "Age                                  -0.2625      0.149     -1.766      0.077      -0.554       0.029\n",
       "DailyRate                            -0.1465      0.112     -1.311      0.190      -0.366       0.073\n",
       "DistanceFromHome                      0.4532      0.114      3.988      0.000       0.230       0.676\n",
       "Education                             0.0191      0.111      0.172      0.864      -0.199       0.237\n",
       "EnvironmentSatisfaction              -0.4595      0.114     -4.033      0.000      -0.683      -0.236\n",
       "HourlyRate                           -0.0470      0.114     -0.412      0.680      -0.271       0.177\n",
       "JobInvolvement                       -0.4643      0.112     -4.130      0.000      -0.685      -0.244\n",
       "JobLevel                             -0.4470      0.442     -1.011      0.312      -1.313       0.419\n",
       "JobSatisfaction                      -0.3980      0.113     -3.534      0.000      -0.619      -0.177\n",
       "MonthlyIncome                        -0.2514      0.473     -0.532      0.595      -1.178       0.675\n",
       "MonthlyRate                          -0.0362      0.112     -0.324      0.746      -0.256       0.183\n",
       "NumCompaniesWorked                    0.5927      0.123      4.829      0.000       0.352       0.833\n",
       "OverTime                              2.2310      0.250      8.915      0.000       1.740       2.721\n",
       "PercentSalaryHike                     0.0543      0.183      0.298      0.766      -0.303       0.412\n",
       "PerformanceRating                    -0.0365      0.184     -0.198      0.843      -0.398       0.325\n",
       "RelationshipSatisfaction             -0.3171      0.113     -2.800      0.005      -0.539      -0.095\n",
       "StockOptionLevel                     -0.3559      0.201     -1.771      0.077      -0.750       0.038\n",
       "TotalWorkingYears                    -0.3797      0.275     -1.382      0.167      -0.918       0.159\n",
       "TrainingTimesLastYear                -0.1774      0.118     -1.501      0.133      -0.409       0.054\n",
       "WorkLifeBalance                      -0.3543      0.111     -3.188      0.001      -0.572      -0.136\n",
       "YearsAtCompany                        0.7161      0.322      2.227      0.026       0.086       1.346\n",
       "YearsInCurrentRole                   -0.7957      0.218     -3.652      0.000      -1.223      -0.369\n",
       "YearsSinceLastPromotion               0.8901      0.192      4.636      0.000       0.514       1.266\n",
       "YearsWithCurrManager                 -0.6759      0.208     -3.247      0.001      -1.084      -0.268\n",
       "=====================================================================================================\n",
       "\"\"\""
      ]
     },
     "execution_count": 3,
     "metadata": {},
     "output_type": "execute_result"
    }
   ],
   "source": [
    "# Running the first training model\n",
    "# Logistic regression model\n",
    "\n",
    "logm1 = sm.GLM(y_train,(sm.add_constant(X_train)), family = sm.families.Binomial())\n",
    "logm1.fit().summary()"
   ]
  },
  {
   "cell_type": "code",
   "execution_count": 4,
   "id": "3dd2a471",
   "metadata": {},
   "outputs": [],
   "source": [
    "# Feature selection using RFE\n",
    "\n",
    "logreg = LogisticRegression()\n",
    "rfe = RFE(estimator = logreg, n_features_to_select =  15)   # running RFE with 15 variables as output\n",
    "rfe = rfe.fit(X_train, y_train)"
   ]
  },
  {
   "cell_type": "code",
   "execution_count": 5,
   "id": "57397477",
   "metadata": {},
   "outputs": [
    {
     "data": {
      "text/plain": [
       "[('BusinessTravel_Travel_Frequently', True, 1),\n",
       " ('BusinessTravel_Travel_Rarely', False, 3),\n",
       " ('Department_Research & Development', True, 1),\n",
       " ('Department_Sales', False, 13),\n",
       " ('EducationField_Life Sciences', True, 1),\n",
       " ('EducationField_Marketing', False, 24),\n",
       " ('EducationField_Medical', True, 1),\n",
       " ('EducationField_Other', True, 1),\n",
       " ('EducationField_Technical Degree', False, 11),\n",
       " ('Gender_Male', False, 8),\n",
       " ('JobRole_Human Resources', False, 14),\n",
       " ('JobRole_Laboratory Technician', True, 1),\n",
       " ('JobRole_Manager', False, 22),\n",
       " ('JobRole_Manufacturing Director', False, 18),\n",
       " ('JobRole_Research Director', False, 23),\n",
       " ('JobRole_Research Scientist', False, 26),\n",
       " ('JobRole_Sales Executive', False, 21),\n",
       " ('JobRole_Sales Representative', False, 6),\n",
       " ('MaritalStatus_Married', False, 17),\n",
       " ('MaritalStatus_Single', True, 1),\n",
       " ('Age', False, 15),\n",
       " ('DailyRate', False, 20),\n",
       " ('DistanceFromHome', False, 7),\n",
       " ('Education', False, 28),\n",
       " ('EnvironmentSatisfaction', True, 1),\n",
       " ('HourlyRate', False, 25),\n",
       " ('JobInvolvement', False, 4),\n",
       " ('JobLevel', True, 1),\n",
       " ('JobSatisfaction', False, 9),\n",
       " ('MonthlyIncome', False, 16),\n",
       " ('MonthlyRate', False, 27),\n",
       " ('NumCompaniesWorked', True, 1),\n",
       " ('OverTime', True, 1),\n",
       " ('PercentSalaryHike', False, 29),\n",
       " ('PerformanceRating', False, 30),\n",
       " ('RelationshipSatisfaction', False, 10),\n",
       " ('StockOptionLevel', False, 5),\n",
       " ('TotalWorkingYears', True, 1),\n",
       " ('TrainingTimesLastYear', False, 19),\n",
       " ('WorkLifeBalance', False, 12),\n",
       " ('YearsAtCompany', False, 2),\n",
       " ('YearsInCurrentRole', True, 1),\n",
       " ('YearsSinceLastPromotion', True, 1),\n",
       " ('YearsWithCurrManager', True, 1)]"
      ]
     },
     "execution_count": 5,
     "metadata": {},
     "output_type": "execute_result"
    }
   ],
   "source": [
    "list(zip(X_train.columns, rfe.support_, rfe.ranking_))"
   ]
  },
  {
   "cell_type": "code",
   "execution_count": 6,
   "id": "85d2c628",
   "metadata": {},
   "outputs": [],
   "source": [
    "col = X_train.columns[rfe.support_]"
   ]
  },
  {
   "cell_type": "code",
   "execution_count": 7,
   "id": "1a9c0b4f",
   "metadata": {},
   "outputs": [
    {
     "data": {
      "text/html": [
       "<table class=\"simpletable\">\n",
       "<caption>Generalized Linear Model Regression Results</caption>\n",
       "<tr>\n",
       "  <th>Dep. Variable:</th>       <td>Attrition</td>    <th>  No. Observations:  </th>  <td>  1029</td> \n",
       "</tr>\n",
       "<tr>\n",
       "  <th>Model:</th>                  <td>GLM</td>       <th>  Df Residuals:      </th>  <td>  1013</td> \n",
       "</tr>\n",
       "<tr>\n",
       "  <th>Model Family:</th>        <td>Binomial</td>     <th>  Df Model:          </th>  <td>    15</td> \n",
       "</tr>\n",
       "<tr>\n",
       "  <th>Link Function:</th>         <td>Logit</td>      <th>  Scale:             </th> <td>  1.0000</td>\n",
       "</tr>\n",
       "<tr>\n",
       "  <th>Method:</th>                <td>IRLS</td>       <th>  Log-Likelihood:    </th> <td> -321.21</td>\n",
       "</tr>\n",
       "<tr>\n",
       "  <th>Date:</th>            <td>Wed, 24 Apr 2024</td> <th>  Deviance:          </th> <td>  642.42</td>\n",
       "</tr>\n",
       "<tr>\n",
       "  <th>Time:</th>                <td>15:58:18</td>     <th>  Pearson chi2:      </th> <td>2.88e+03</td>\n",
       "</tr>\n",
       "<tr>\n",
       "  <th>No. Iterations:</th>          <td>7</td>        <th>  Pseudo R-squ. (CS):</th>  <td>0.2309</td> \n",
       "</tr>\n",
       "<tr>\n",
       "  <th>Covariance Type:</th>     <td>nonrobust</td>    <th>                     </th>     <td> </td>   \n",
       "</tr>\n",
       "</table>\n",
       "<table class=\"simpletable\">\n",
       "<tr>\n",
       "                  <td></td>                     <th>coef</th>     <th>std err</th>      <th>z</th>      <th>P>|z|</th>  <th>[0.025</th>    <th>0.975]</th>  \n",
       "</tr>\n",
       "<tr>\n",
       "  <th>const</th>                             <td>   -2.6017</td> <td>    0.257</td> <td>  -10.128</td> <td> 0.000</td> <td>   -3.105</td> <td>   -2.098</td>\n",
       "</tr>\n",
       "<tr>\n",
       "  <th>BusinessTravel_Travel_Frequently</th>  <td>    0.9292</td> <td>    0.230</td> <td>    4.033</td> <td> 0.000</td> <td>    0.478</td> <td>    1.381</td>\n",
       "</tr>\n",
       "<tr>\n",
       "  <th>Department_Research & Development</th> <td>   -0.9015</td> <td>    0.261</td> <td>   -3.458</td> <td> 0.001</td> <td>   -1.413</td> <td>   -0.390</td>\n",
       "</tr>\n",
       "<tr>\n",
       "  <th>EducationField_Life Sciences</th>      <td>   -0.6013</td> <td>    0.274</td> <td>   -2.194</td> <td> 0.028</td> <td>   -1.138</td> <td>   -0.064</td>\n",
       "</tr>\n",
       "<tr>\n",
       "  <th>EducationField_Medical</th>            <td>   -0.9274</td> <td>    0.297</td> <td>   -3.127</td> <td> 0.002</td> <td>   -1.509</td> <td>   -0.346</td>\n",
       "</tr>\n",
       "<tr>\n",
       "  <th>EducationField_Other</th>              <td>   -0.5961</td> <td>    0.533</td> <td>   -1.119</td> <td> 0.263</td> <td>   -1.640</td> <td>    0.448</td>\n",
       "</tr>\n",
       "<tr>\n",
       "  <th>JobRole_Laboratory Technician</th>     <td>    1.0446</td> <td>    0.277</td> <td>    3.772</td> <td> 0.000</td> <td>    0.502</td> <td>    1.587</td>\n",
       "</tr>\n",
       "<tr>\n",
       "  <th>MaritalStatus_Single</th>              <td>    1.0288</td> <td>    0.209</td> <td>    4.933</td> <td> 0.000</td> <td>    0.620</td> <td>    1.438</td>\n",
       "</tr>\n",
       "<tr>\n",
       "  <th>EnvironmentSatisfaction</th>           <td>   -0.4376</td> <td>    0.104</td> <td>   -4.227</td> <td> 0.000</td> <td>   -0.640</td> <td>   -0.235</td>\n",
       "</tr>\n",
       "<tr>\n",
       "  <th>JobLevel</th>                          <td>   -0.6947</td> <td>    0.213</td> <td>   -3.269</td> <td> 0.001</td> <td>   -1.111</td> <td>   -0.278</td>\n",
       "</tr>\n",
       "<tr>\n",
       "  <th>NumCompaniesWorked</th>                <td>    0.4041</td> <td>    0.104</td> <td>    3.886</td> <td> 0.000</td> <td>    0.200</td> <td>    0.608</td>\n",
       "</tr>\n",
       "<tr>\n",
       "  <th>OverTime</th>                          <td>    1.7922</td> <td>    0.215</td> <td>    8.334</td> <td> 0.000</td> <td>    1.371</td> <td>    2.214</td>\n",
       "</tr>\n",
       "<tr>\n",
       "  <th>TotalWorkingYears</th>                 <td>   -0.3435</td> <td>    0.211</td> <td>   -1.629</td> <td> 0.103</td> <td>   -0.757</td> <td>    0.070</td>\n",
       "</tr>\n",
       "<tr>\n",
       "  <th>YearsInCurrentRole</th>                <td>   -0.5594</td> <td>    0.187</td> <td>   -2.988</td> <td> 0.003</td> <td>   -0.926</td> <td>   -0.193</td>\n",
       "</tr>\n",
       "<tr>\n",
       "  <th>YearsSinceLastPromotion</th>           <td>    0.9907</td> <td>    0.162</td> <td>    6.126</td> <td> 0.000</td> <td>    0.674</td> <td>    1.308</td>\n",
       "</tr>\n",
       "<tr>\n",
       "  <th>YearsWithCurrManager</th>              <td>   -0.4897</td> <td>    0.175</td> <td>   -2.797</td> <td> 0.005</td> <td>   -0.833</td> <td>   -0.147</td>\n",
       "</tr>\n",
       "</table>"
      ],
      "text/latex": [
       "\\begin{center}\n",
       "\\begin{tabular}{lclc}\n",
       "\\toprule\n",
       "\\textbf{Dep. Variable:}                      &    Attrition     & \\textbf{  No. Observations:  } &     1029    \\\\\n",
       "\\textbf{Model:}                              &       GLM        & \\textbf{  Df Residuals:      } &     1013    \\\\\n",
       "\\textbf{Model Family:}                       &     Binomial     & \\textbf{  Df Model:          } &       15    \\\\\n",
       "\\textbf{Link Function:}                      &      Logit       & \\textbf{  Scale:             } &    1.0000   \\\\\n",
       "\\textbf{Method:}                             &       IRLS       & \\textbf{  Log-Likelihood:    } &   -321.21   \\\\\n",
       "\\textbf{Date:}                               & Wed, 24 Apr 2024 & \\textbf{  Deviance:          } &    642.42   \\\\\n",
       "\\textbf{Time:}                               &     15:58:18     & \\textbf{  Pearson chi2:      } &  2.88e+03   \\\\\n",
       "\\textbf{No. Iterations:}                     &        7         & \\textbf{  Pseudo R-squ. (CS):} &   0.2309    \\\\\n",
       "\\textbf{Covariance Type:}                    &    nonrobust     & \\textbf{                     } &             \\\\\n",
       "\\bottomrule\n",
       "\\end{tabular}\n",
       "\\begin{tabular}{lcccccc}\n",
       "                                             & \\textbf{coef} & \\textbf{std err} & \\textbf{z} & \\textbf{P$> |$z$|$} & \\textbf{[0.025} & \\textbf{0.975]}  \\\\\n",
       "\\midrule\n",
       "\\textbf{const}                               &      -2.6017  &        0.257     &   -10.128  &         0.000        &       -3.105    &       -2.098     \\\\\n",
       "\\textbf{BusinessTravel\\_Travel\\_Frequently}  &       0.9292  &        0.230     &     4.033  &         0.000        &        0.478    &        1.381     \\\\\n",
       "\\textbf{Department\\_Research \\& Development} &      -0.9015  &        0.261     &    -3.458  &         0.001        &       -1.413    &       -0.390     \\\\\n",
       "\\textbf{EducationField\\_Life Sciences}       &      -0.6013  &        0.274     &    -2.194  &         0.028        &       -1.138    &       -0.064     \\\\\n",
       "\\textbf{EducationField\\_Medical}             &      -0.9274  &        0.297     &    -3.127  &         0.002        &       -1.509    &       -0.346     \\\\\n",
       "\\textbf{EducationField\\_Other}               &      -0.5961  &        0.533     &    -1.119  &         0.263        &       -1.640    &        0.448     \\\\\n",
       "\\textbf{JobRole\\_Laboratory Technician}      &       1.0446  &        0.277     &     3.772  &         0.000        &        0.502    &        1.587     \\\\\n",
       "\\textbf{MaritalStatus\\_Single}               &       1.0288  &        0.209     &     4.933  &         0.000        &        0.620    &        1.438     \\\\\n",
       "\\textbf{EnvironmentSatisfaction}             &      -0.4376  &        0.104     &    -4.227  &         0.000        &       -0.640    &       -0.235     \\\\\n",
       "\\textbf{JobLevel}                            &      -0.6947  &        0.213     &    -3.269  &         0.001        &       -1.111    &       -0.278     \\\\\n",
       "\\textbf{NumCompaniesWorked}                  &       0.4041  &        0.104     &     3.886  &         0.000        &        0.200    &        0.608     \\\\\n",
       "\\textbf{OverTime}                            &       1.7922  &        0.215     &     8.334  &         0.000        &        1.371    &        2.214     \\\\\n",
       "\\textbf{TotalWorkingYears}                   &      -0.3435  &        0.211     &    -1.629  &         0.103        &       -0.757    &        0.070     \\\\\n",
       "\\textbf{YearsInCurrentRole}                  &      -0.5594  &        0.187     &    -2.988  &         0.003        &       -0.926    &       -0.193     \\\\\n",
       "\\textbf{YearsSinceLastPromotion}             &       0.9907  &        0.162     &     6.126  &         0.000        &        0.674    &        1.308     \\\\\n",
       "\\textbf{YearsWithCurrManager}                &      -0.4897  &        0.175     &    -2.797  &         0.005        &       -0.833    &       -0.147     \\\\\n",
       "\\bottomrule\n",
       "\\end{tabular}\n",
       "%\\caption{Generalized Linear Model Regression Results}\n",
       "\\end{center}"
      ],
      "text/plain": [
       "<class 'statsmodels.iolib.summary.Summary'>\n",
       "\"\"\"\n",
       "                 Generalized Linear Model Regression Results                  \n",
       "==============================================================================\n",
       "Dep. Variable:              Attrition   No. Observations:                 1029\n",
       "Model:                            GLM   Df Residuals:                     1013\n",
       "Model Family:                Binomial   Df Model:                           15\n",
       "Link Function:                  Logit   Scale:                          1.0000\n",
       "Method:                          IRLS   Log-Likelihood:                -321.21\n",
       "Date:                Wed, 24 Apr 2024   Deviance:                       642.42\n",
       "Time:                        15:58:18   Pearson chi2:                 2.88e+03\n",
       "No. Iterations:                     7   Pseudo R-squ. (CS):             0.2309\n",
       "Covariance Type:            nonrobust                                         \n",
       "=====================================================================================================\n",
       "                                        coef    std err          z      P>|z|      [0.025      0.975]\n",
       "-----------------------------------------------------------------------------------------------------\n",
       "const                                -2.6017      0.257    -10.128      0.000      -3.105      -2.098\n",
       "BusinessTravel_Travel_Frequently      0.9292      0.230      4.033      0.000       0.478       1.381\n",
       "Department_Research & Development    -0.9015      0.261     -3.458      0.001      -1.413      -0.390\n",
       "EducationField_Life Sciences         -0.6013      0.274     -2.194      0.028      -1.138      -0.064\n",
       "EducationField_Medical               -0.9274      0.297     -3.127      0.002      -1.509      -0.346\n",
       "EducationField_Other                 -0.5961      0.533     -1.119      0.263      -1.640       0.448\n",
       "JobRole_Laboratory Technician         1.0446      0.277      3.772      0.000       0.502       1.587\n",
       "MaritalStatus_Single                  1.0288      0.209      4.933      0.000       0.620       1.438\n",
       "EnvironmentSatisfaction              -0.4376      0.104     -4.227      0.000      -0.640      -0.235\n",
       "JobLevel                             -0.6947      0.213     -3.269      0.001      -1.111      -0.278\n",
       "NumCompaniesWorked                    0.4041      0.104      3.886      0.000       0.200       0.608\n",
       "OverTime                              1.7922      0.215      8.334      0.000       1.371       2.214\n",
       "TotalWorkingYears                    -0.3435      0.211     -1.629      0.103      -0.757       0.070\n",
       "YearsInCurrentRole                   -0.5594      0.187     -2.988      0.003      -0.926      -0.193\n",
       "YearsSinceLastPromotion               0.9907      0.162      6.126      0.000       0.674       1.308\n",
       "YearsWithCurrManager                 -0.4897      0.175     -2.797      0.005      -0.833      -0.147\n",
       "=====================================================================================================\n",
       "\"\"\""
      ]
     },
     "execution_count": 7,
     "metadata": {},
     "output_type": "execute_result"
    }
   ],
   "source": [
    "# Assesing the model with StatsModels\n",
    "\n",
    "X_train_sm = sm.add_constant(X_train[col])\n",
    "logm2 = sm.GLM(y_train,X_train_sm, family = sm.families.Binomial())\n",
    "res = logm2.fit()\n",
    "res.summary()"
   ]
  },
  {
   "cell_type": "code",
   "execution_count": 8,
   "id": "cac1bd92",
   "metadata": {},
   "outputs": [
    {
     "data": {
      "text/plain": [
       "0    0.164730\n",
       "1    0.005765\n",
       "2    0.190754\n",
       "3    0.427422\n",
       "4    0.120162\n",
       "5    0.139271\n",
       "6    0.050419\n",
       "7    0.016403\n",
       "8    0.358734\n",
       "9    0.515009\n",
       "dtype: float64"
      ]
     },
     "execution_count": 8,
     "metadata": {},
     "output_type": "execute_result"
    }
   ],
   "source": [
    "# Getting the predicted values on the train set\n",
    "\n",
    "y_train_pred = res.predict(X_train_sm)\n",
    "y_train_pred[:10]"
   ]
  },
  {
   "cell_type": "code",
   "execution_count": 9,
   "id": "b8a10d09",
   "metadata": {},
   "outputs": [
    {
     "data": {
      "text/plain": [
       "array([0.16472969, 0.00576487, 0.19075354, 0.42742151, 0.1201618 ,\n",
       "       0.13927146, 0.05041927, 0.016403  , 0.35873437, 0.51500934])"
      ]
     },
     "execution_count": 9,
     "metadata": {},
     "output_type": "execute_result"
    }
   ],
   "source": [
    "y_train_pred = y_train_pred.values.reshape(-1)\n",
    "y_train_pred[:10]"
   ]
  },
  {
   "cell_type": "code",
   "execution_count": 10,
   "id": "1036a2d7",
   "metadata": {},
   "outputs": [
    {
     "data": {
      "text/html": [
       "<div>\n",
       "<style scoped>\n",
       "    .dataframe tbody tr th:only-of-type {\n",
       "        vertical-align: middle;\n",
       "    }\n",
       "\n",
       "    .dataframe tbody tr th {\n",
       "        vertical-align: top;\n",
       "    }\n",
       "\n",
       "    .dataframe thead th {\n",
       "        text-align: right;\n",
       "    }\n",
       "</style>\n",
       "<table border=\"1\" class=\"dataframe\">\n",
       "  <thead>\n",
       "    <tr style=\"text-align: right;\">\n",
       "      <th></th>\n",
       "      <th>Attrition</th>\n",
       "      <th>Attrition_Prob</th>\n",
       "    </tr>\n",
       "  </thead>\n",
       "  <tbody>\n",
       "    <tr>\n",
       "      <th>0</th>\n",
       "      <td>0</td>\n",
       "      <td>0.164730</td>\n",
       "    </tr>\n",
       "    <tr>\n",
       "      <th>1</th>\n",
       "      <td>0</td>\n",
       "      <td>0.005765</td>\n",
       "    </tr>\n",
       "    <tr>\n",
       "      <th>2</th>\n",
       "      <td>0</td>\n",
       "      <td>0.190754</td>\n",
       "    </tr>\n",
       "    <tr>\n",
       "      <th>3</th>\n",
       "      <td>1</td>\n",
       "      <td>0.427422</td>\n",
       "    </tr>\n",
       "    <tr>\n",
       "      <th>4</th>\n",
       "      <td>0</td>\n",
       "      <td>0.120162</td>\n",
       "    </tr>\n",
       "  </tbody>\n",
       "</table>\n",
       "</div>"
      ],
      "text/plain": [
       "   Attrition  Attrition_Prob\n",
       "0          0        0.164730\n",
       "1          0        0.005765\n",
       "2          0        0.190754\n",
       "3          1        0.427422\n",
       "4          0        0.120162"
      ]
     },
     "execution_count": 10,
     "metadata": {},
     "output_type": "execute_result"
    }
   ],
   "source": [
    "# Creating a DataFrame with actual Attrition Flag and the Predicted Probabilities\n",
    "\n",
    "y_train_pred_final = pd.DataFrame({'Attrition':y_train.values.ravel(), 'Attrition_Prob':y_train_pred})\n",
    "\n",
    "y_train_pred_final.head()"
   ]
  },
  {
   "cell_type": "code",
   "execution_count": 11,
   "id": "39c553de",
   "metadata": {},
   "outputs": [
    {
     "data": {
      "text/html": [
       "<div>\n",
       "<style scoped>\n",
       "    .dataframe tbody tr th:only-of-type {\n",
       "        vertical-align: middle;\n",
       "    }\n",
       "\n",
       "    .dataframe tbody tr th {\n",
       "        vertical-align: top;\n",
       "    }\n",
       "\n",
       "    .dataframe thead th {\n",
       "        text-align: right;\n",
       "    }\n",
       "</style>\n",
       "<table border=\"1\" class=\"dataframe\">\n",
       "  <thead>\n",
       "    <tr style=\"text-align: right;\">\n",
       "      <th></th>\n",
       "      <th>Attrition</th>\n",
       "      <th>Attrition_Prob</th>\n",
       "      <th>predicted</th>\n",
       "    </tr>\n",
       "  </thead>\n",
       "  <tbody>\n",
       "    <tr>\n",
       "      <th>0</th>\n",
       "      <td>0</td>\n",
       "      <td>0.164730</td>\n",
       "      <td>0</td>\n",
       "    </tr>\n",
       "    <tr>\n",
       "      <th>1</th>\n",
       "      <td>0</td>\n",
       "      <td>0.005765</td>\n",
       "      <td>0</td>\n",
       "    </tr>\n",
       "    <tr>\n",
       "      <th>2</th>\n",
       "      <td>0</td>\n",
       "      <td>0.190754</td>\n",
       "      <td>0</td>\n",
       "    </tr>\n",
       "    <tr>\n",
       "      <th>3</th>\n",
       "      <td>1</td>\n",
       "      <td>0.427422</td>\n",
       "      <td>0</td>\n",
       "    </tr>\n",
       "    <tr>\n",
       "      <th>4</th>\n",
       "      <td>0</td>\n",
       "      <td>0.120162</td>\n",
       "      <td>0</td>\n",
       "    </tr>\n",
       "  </tbody>\n",
       "</table>\n",
       "</div>"
      ],
      "text/plain": [
       "   Attrition  Attrition_Prob  predicted\n",
       "0          0        0.164730          0\n",
       "1          0        0.005765          0\n",
       "2          0        0.190754          0\n",
       "3          1        0.427422          0\n",
       "4          0        0.120162          0"
      ]
     },
     "execution_count": 11,
     "metadata": {},
     "output_type": "execute_result"
    }
   ],
   "source": [
    "# Creating a column 'Predicted' as 1 if Attrition_Prob > 0.5 else 0\n",
    "\n",
    "y_train_pred_final['predicted'] = y_train_pred_final.Attrition_Prob.map(lambda x: 1 if x > 0.5 else 0)\n",
    "\n",
    "y_train_pred_final.head()"
   ]
  },
  {
   "cell_type": "markdown",
   "id": "9e43058a",
   "metadata": {},
   "source": [
    "## <font color = 'blue'><b> Checking VIFs"
   ]
  },
  {
   "cell_type": "code",
   "execution_count": 12,
   "id": "136ca156",
   "metadata": {},
   "outputs": [
    {
     "data": {
      "text/html": [
       "<div>\n",
       "<style scoped>\n",
       "    .dataframe tbody tr th:only-of-type {\n",
       "        vertical-align: middle;\n",
       "    }\n",
       "\n",
       "    .dataframe tbody tr th {\n",
       "        vertical-align: top;\n",
       "    }\n",
       "\n",
       "    .dataframe thead th {\n",
       "        text-align: right;\n",
       "    }\n",
       "</style>\n",
       "<table border=\"1\" class=\"dataframe\">\n",
       "  <thead>\n",
       "    <tr style=\"text-align: right;\">\n",
       "      <th></th>\n",
       "      <th>Features</th>\n",
       "      <th>VIF</th>\n",
       "    </tr>\n",
       "  </thead>\n",
       "  <tbody>\n",
       "    <tr>\n",
       "      <th>1</th>\n",
       "      <td>Department_Research &amp; Development</td>\n",
       "      <td>3.54</td>\n",
       "    </tr>\n",
       "    <tr>\n",
       "      <th>11</th>\n",
       "      <td>TotalWorkingYears</td>\n",
       "      <td>3.03</td>\n",
       "    </tr>\n",
       "    <tr>\n",
       "      <th>8</th>\n",
       "      <td>JobLevel</td>\n",
       "      <td>2.80</td>\n",
       "    </tr>\n",
       "    <tr>\n",
       "      <th>2</th>\n",
       "      <td>EducationField_Life Sciences</td>\n",
       "      <td>2.36</td>\n",
       "    </tr>\n",
       "    <tr>\n",
       "      <th>12</th>\n",
       "      <td>YearsInCurrentRole</td>\n",
       "      <td>2.29</td>\n",
       "    </tr>\n",
       "    <tr>\n",
       "      <th>14</th>\n",
       "      <td>YearsWithCurrManager</td>\n",
       "      <td>2.21</td>\n",
       "    </tr>\n",
       "    <tr>\n",
       "      <th>3</th>\n",
       "      <td>EducationField_Medical</td>\n",
       "      <td>2.15</td>\n",
       "    </tr>\n",
       "    <tr>\n",
       "      <th>5</th>\n",
       "      <td>JobRole_Laboratory Technician</td>\n",
       "      <td>1.56</td>\n",
       "    </tr>\n",
       "    <tr>\n",
       "      <th>13</th>\n",
       "      <td>YearsSinceLastPromotion</td>\n",
       "      <td>1.54</td>\n",
       "    </tr>\n",
       "    <tr>\n",
       "      <th>6</th>\n",
       "      <td>MaritalStatus_Single</td>\n",
       "      <td>1.41</td>\n",
       "    </tr>\n",
       "    <tr>\n",
       "      <th>10</th>\n",
       "      <td>OverTime</td>\n",
       "      <td>1.33</td>\n",
       "    </tr>\n",
       "    <tr>\n",
       "      <th>0</th>\n",
       "      <td>BusinessTravel_Travel_Frequently</td>\n",
       "      <td>1.23</td>\n",
       "    </tr>\n",
       "    <tr>\n",
       "      <th>4</th>\n",
       "      <td>EducationField_Other</td>\n",
       "      <td>1.23</td>\n",
       "    </tr>\n",
       "    <tr>\n",
       "      <th>9</th>\n",
       "      <td>NumCompaniesWorked</td>\n",
       "      <td>1.12</td>\n",
       "    </tr>\n",
       "    <tr>\n",
       "      <th>7</th>\n",
       "      <td>EnvironmentSatisfaction</td>\n",
       "      <td>1.02</td>\n",
       "    </tr>\n",
       "  </tbody>\n",
       "</table>\n",
       "</div>"
      ],
      "text/plain": [
       "                             Features   VIF\n",
       "1   Department_Research & Development  3.54\n",
       "11                  TotalWorkingYears  3.03\n",
       "8                            JobLevel  2.80\n",
       "2        EducationField_Life Sciences  2.36\n",
       "12                 YearsInCurrentRole  2.29\n",
       "14               YearsWithCurrManager  2.21\n",
       "3              EducationField_Medical  2.15\n",
       "5       JobRole_Laboratory Technician  1.56\n",
       "13            YearsSinceLastPromotion  1.54\n",
       "6                MaritalStatus_Single  1.41\n",
       "10                           OverTime  1.33\n",
       "0    BusinessTravel_Travel_Frequently  1.23\n",
       "4                EducationField_Other  1.23\n",
       "9                  NumCompaniesWorked  1.12\n",
       "7             EnvironmentSatisfaction  1.02"
      ]
     },
     "execution_count": 12,
     "metadata": {},
     "output_type": "execute_result"
    }
   ],
   "source": [
    "# Create a dataframe that will contain the names of all the feature variables and their respective VIFs\n",
    "vif = pd.DataFrame()\n",
    "vif['Features'] = X_train[col].columns\n",
    "vif['VIF'] = [variance_inflation_factor(X_train[col].values, i) for i in range(X_train[col].shape[1])]\n",
    "vif['VIF'] = round(vif['VIF'], 2)\n",
    "vif = vif.sort_values(by = \"VIF\", ascending = False)\n",
    "vif"
   ]
  },
  {
   "cell_type": "markdown",
   "id": "2a0d9552",
   "metadata": {},
   "source": [
    "##### The VIFs are in acceptable range"
   ]
  },
  {
   "cell_type": "markdown",
   "id": "0aaa76c9",
   "metadata": {},
   "source": [
    "## <font color = 'blue'><b> Model Evaluation"
   ]
  },
  {
   "cell_type": "code",
   "execution_count": 13,
   "id": "983104de",
   "metadata": {},
   "outputs": [
    {
     "data": {
      "image/png": "[encoded data removed]",
      "text/plain": [
       "<Figure size 640x480 with 2 Axes>"
      ]
     },
     "metadata": {},
     "output_type": "display_data"
    }
   ],
   "source": [
    "cm = confusion_matrix(y_train_pred_final.Attrition, y_train_pred_final.predicted)\n",
    "sns.heatmap(cm, annot=True)\n",
    "plt.show()"
   ]
  },
  {
   "cell_type": "code",
   "execution_count": 14,
   "id": "be83406f",
   "metadata": {},
   "outputs": [
    {
     "name": "stdout",
     "output_type": "stream",
     "text": [
      "              precision    recall  f1-score   support\n",
      "\n",
      "           0       0.89      0.97      0.93       862\n",
      "           1       0.72      0.41      0.52       167\n",
      "\n",
      "    accuracy                           0.88      1029\n",
      "   macro avg       0.81      0.69      0.73      1029\n",
      "weighted avg       0.87      0.88      0.86      1029\n",
      "\n"
     ]
    }
   ],
   "source": [
    "print(classification_report(y_train_pred_final.Attrition, y_train_pred_final.predicted))"
   ]
  },
  {
   "cell_type": "code",
   "execution_count": 15,
   "id": "0aca9f69",
   "metadata": {},
   "outputs": [],
   "source": [
    "TP = cm[1,1] # true positive \n",
    "TN = cm[0,0] # true negatives\n",
    "FP = cm[0,1] # false positives\n",
    "FN = cm[1,0] # false negatives"
   ]
  },
  {
   "cell_type": "code",
   "execution_count": 16,
   "id": "5efacb01",
   "metadata": {},
   "outputs": [
    {
     "data": {
      "text/plain": [
       "0.40718562874251496"
      ]
     },
     "execution_count": 16,
     "metadata": {},
     "output_type": "execute_result"
    }
   ],
   "source": [
    "# Let's see the sensitivity of our logistic regression model\n",
    "TP / float(TP+FN)"
   ]
  },
  {
   "cell_type": "code",
   "execution_count": 17,
   "id": "442c0473",
   "metadata": {},
   "outputs": [
    {
     "data": {
      "text/plain": [
       "0.9698375870069605"
      ]
     },
     "execution_count": 17,
     "metadata": {},
     "output_type": "execute_result"
    }
   ],
   "source": [
    "# Let us calculate specificity\n",
    "TN / float(TN+FP)"
   ]
  },
  {
   "cell_type": "code",
   "execution_count": 18,
   "id": "a9934c37",
   "metadata": {},
   "outputs": [
    {
     "name": "stdout",
     "output_type": "stream",
     "text": [
      "0.030162412993039442\n"
     ]
    }
   ],
   "source": [
    "# Calculate false postive rate - predicting attrition when employee stayed\n",
    "print(FP/ float(TN+FP))"
   ]
  },
  {
   "cell_type": "code",
   "execution_count": 19,
   "id": "4a940a6c",
   "metadata": {},
   "outputs": [
    {
     "name": "stdout",
     "output_type": "stream",
     "text": [
      "0.723404255319149\n"
     ]
    }
   ],
   "source": [
    "# positive predictive value \n",
    "print (TP / float(TP+FP))"
   ]
  },
  {
   "cell_type": "code",
   "execution_count": 20,
   "id": "30fc6be1",
   "metadata": {},
   "outputs": [
    {
     "name": "stdout",
     "output_type": "stream",
     "text": [
      "0.8941176470588236\n"
     ]
    }
   ],
   "source": [
    "# Negative predictive value\n",
    "print (TN / float(TN+ FN))"
   ]
  },
  {
   "cell_type": "markdown",
   "id": "760f112f",
   "metadata": {},
   "source": [
    "## <font color = 'blue'><b> Plotting the ROC Curve\n",
    "    \n",
    "   "
   ]
  },
  {
   "cell_type": "markdown",
   "id": "08a5742b",
   "metadata": {},
   "source": [
    "An ROC curve demonstrates several things:\n",
    "\n",
    "- It shows the tradeoff between sensitivity and specificity (any increase in sensitivity will be accompanied by a decrease in specificity).\n",
    "- The closer the curve follows the left-hand border and then the top border of the ROC space, the more accurate the test.\n",
    "- The closer the curve comes to the 45-degree diagonal of the ROC space, the less accurate the test."
   ]
  },
  {
   "cell_type": "code",
   "execution_count": 21,
   "id": "09120e39",
   "metadata": {},
   "outputs": [],
   "source": [
    "def draw_roc( actual, probs ):\n",
    "    fpr, tpr, thresholds = metrics.roc_curve( actual, probs,\n",
    "                                              drop_intermediate = False )\n",
    "    auc_score = metrics.roc_auc_score( actual, probs )\n",
    "    plt.figure(figsize=(5, 5))\n",
    "    plt.plot( fpr, tpr, label='ROC curve (area = %0.2f)' % auc_score )\n",
    "    plt.plot([0, 1], [0, 1], 'k--')\n",
    "    plt.xlim([0.0, 1.0])\n",
    "    plt.ylim([0.0, 1.05])\n",
    "    plt.xlabel('False Positive Rate or [1 - True Negative Rate]')\n",
    "    plt.ylabel('True Positive Rate')\n",
    "    plt.title('Receiver operating characteristic example')\n",
    "    plt.legend(loc=\"lower right\")\n",
    "    plt.show()\n",
    "\n",
    "    return None"
   ]
  },
  {
   "cell_type": "code",
   "execution_count": 22,
   "id": "5675b5a3",
   "metadata": {},
   "outputs": [],
   "source": [
    "fpr, tpr, thresholds = metrics.roc_curve( y_train_pred_final.Attrition, y_train_pred_final.Attrition_Prob, drop_intermediate = False )"
   ]
  },
  {
   "cell_type": "code",
   "execution_count": 23,
   "id": "6c734965",
   "metadata": {},
   "outputs": [
    {
     "data": {
      "image/png": "[encoded data removed]",
      "text/plain": [
       "<Figure size 500x500 with 1 Axes>"
      ]
     },
     "metadata": {},
     "output_type": "display_data"
    }
   ],
   "source": [
    "draw_roc(y_train_pred_final.Attrition, y_train_pred_final.Attrition_Prob)"
   ]
  },
  {
   "cell_type": "markdown",
   "id": "1bc926c0",
   "metadata": {},
   "source": [
    "## <font color = 'blue'><b> Finding Optimal cut-off point"
   ]
  },
  {
   "cell_type": "code",
   "execution_count": 24,
   "id": "e6288998",
   "metadata": {},
   "outputs": [
    {
     "data": {
      "text/html": [
       "<div>\n",
       "<style scoped>\n",
       "    .dataframe tbody tr th:only-of-type {\n",
       "        vertical-align: middle;\n",
       "    }\n",
       "\n",
       "    .dataframe tbody tr th {\n",
       "        vertical-align: top;\n",
       "    }\n",
       "\n",
       "    .dataframe thead th {\n",
       "        text-align: right;\n",
       "    }\n",
       "</style>\n",
       "<table border=\"1\" class=\"dataframe\">\n",
       "  <thead>\n",
       "    <tr style=\"text-align: right;\">\n",
       "      <th></th>\n",
       "      <th>Attrition</th>\n",
       "      <th>Attrition_Prob</th>\n",
       "      <th>predicted</th>\n",
       "      <th>0.0</th>\n",
       "      <th>0.1</th>\n",
       "      <th>0.2</th>\n",
       "      <th>0.3</th>\n",
       "      <th>0.4</th>\n",
       "      <th>0.5</th>\n",
       "      <th>0.6</th>\n",
       "      <th>0.7</th>\n",
       "      <th>0.8</th>\n",
       "      <th>0.9</th>\n",
       "    </tr>\n",
       "  </thead>\n",
       "  <tbody>\n",
       "    <tr>\n",
       "      <th>0</th>\n",
       "      <td>0</td>\n",
       "      <td>0.164730</td>\n",
       "      <td>0</td>\n",
       "      <td>1</td>\n",
       "      <td>1</td>\n",
       "      <td>0</td>\n",
       "      <td>0</td>\n",
       "      <td>0</td>\n",
       "      <td>0</td>\n",
       "      <td>0</td>\n",
       "      <td>0</td>\n",
       "      <td>0</td>\n",
       "      <td>0</td>\n",
       "    </tr>\n",
       "    <tr>\n",
       "      <th>1</th>\n",
       "      <td>0</td>\n",
       "      <td>0.005765</td>\n",
       "      <td>0</td>\n",
       "      <td>1</td>\n",
       "      <td>0</td>\n",
       "      <td>0</td>\n",
       "      <td>0</td>\n",
       "      <td>0</td>\n",
       "      <td>0</td>\n",
       "      <td>0</td>\n",
       "      <td>0</td>\n",
       "      <td>0</td>\n",
       "      <td>0</td>\n",
       "    </tr>\n",
       "    <tr>\n",
       "      <th>2</th>\n",
       "      <td>0</td>\n",
       "      <td>0.190754</td>\n",
       "      <td>0</td>\n",
       "      <td>1</td>\n",
       "      <td>1</td>\n",
       "      <td>0</td>\n",
       "      <td>0</td>\n",
       "      <td>0</td>\n",
       "      <td>0</td>\n",
       "      <td>0</td>\n",
       "      <td>0</td>\n",
       "      <td>0</td>\n",
       "      <td>0</td>\n",
       "    </tr>\n",
       "    <tr>\n",
       "      <th>3</th>\n",
       "      <td>1</td>\n",
       "      <td>0.427422</td>\n",
       "      <td>0</td>\n",
       "      <td>1</td>\n",
       "      <td>1</td>\n",
       "      <td>1</td>\n",
       "      <td>1</td>\n",
       "      <td>1</td>\n",
       "      <td>0</td>\n",
       "      <td>0</td>\n",
       "      <td>0</td>\n",
       "      <td>0</td>\n",
       "      <td>0</td>\n",
       "    </tr>\n",
       "    <tr>\n",
       "      <th>4</th>\n",
       "      <td>0</td>\n",
       "      <td>0.120162</td>\n",
       "      <td>0</td>\n",
       "      <td>1</td>\n",
       "      <td>1</td>\n",
       "      <td>0</td>\n",
       "      <td>0</td>\n",
       "      <td>0</td>\n",
       "      <td>0</td>\n",
       "      <td>0</td>\n",
       "      <td>0</td>\n",
       "      <td>0</td>\n",
       "      <td>0</td>\n",
       "    </tr>\n",
       "  </tbody>\n",
       "</table>\n",
       "</div>"
      ],
      "text/plain": [
       "   Attrition  Attrition_Prob  predicted  0.0  0.1  0.2  0.3  0.4  0.5  0.6  \\\n",
       "0          0        0.164730          0    1    1    0    0    0    0    0   \n",
       "1          0        0.005765          0    1    0    0    0    0    0    0   \n",
       "2          0        0.190754          0    1    1    0    0    0    0    0   \n",
       "3          1        0.427422          0    1    1    1    1    1    0    0   \n",
       "4          0        0.120162          0    1    1    0    0    0    0    0   \n",
       "\n",
       "   0.7  0.8  0.9  \n",
       "0    0    0    0  \n",
       "1    0    0    0  \n",
       "2    0    0    0  \n",
       "3    0    0    0  \n",
       "4    0    0    0  "
      ]
     },
     "execution_count": 24,
     "metadata": {},
     "output_type": "execute_result"
    }
   ],
   "source": [
    "# Let's create columns with different probability cutoffs \n",
    "numbers = [float(x)/10 for x in range(10)]\n",
    "for i in numbers:\n",
    "    y_train_pred_final[i]= y_train_pred_final.Attrition_Prob.map(lambda x: 1 if x > i else 0)\n",
    "y_train_pred_final.head()"
   ]
  },
  {
   "cell_type": "code",
   "execution_count": 25,
   "id": "2270f4f6",
   "metadata": {},
   "outputs": [
    {
     "name": "stdout",
     "output_type": "stream",
     "text": [
      "     prob  accuracy     sensi     speci\n",
      "0.0   0.0  0.162293  1.000000  0.000000\n",
      "0.1   0.1  0.658892  0.850299  0.621810\n",
      "0.2   0.2  0.803693  0.754491  0.813225\n",
      "0.3   0.3  0.858115  0.628743  0.902552\n",
      "0.4   0.4  0.877551  0.508982  0.948956\n",
      "0.5   0.5  0.878523  0.407186  0.969838\n",
      "0.6   0.6  0.881438  0.305389  0.993039\n",
      "0.7   0.7  0.866861  0.197605  0.996520\n",
      "0.8   0.8  0.853256  0.101796  0.998840\n",
      "0.9   0.9  0.840622  0.017964  1.000000\n"
     ]
    }
   ],
   "source": [
    "# Now let's calculate accuracy sensitivity and specificity for various probability cutoffs.\n",
    "cutoff_df = pd.DataFrame( columns = ['prob','accuracy','sensi','speci'])\n",
    "\n",
    "num = [0.0,0.1,0.2,0.3,0.4,0.5,0.6,0.7,0.8,0.9]\n",
    "for i in num:\n",
    "    cm1 = metrics.confusion_matrix(y_train_pred_final.Attrition, y_train_pred_final[i] )\n",
    "    total1=sum(sum(cm1))\n",
    "    accuracy = (cm1[0,0]+cm1[1,1])/total1\n",
    "    \n",
    "    speci = cm1[0,0]/(cm1[0,0]+cm1[0,1])\n",
    "    sensi = cm1[1,1]/(cm1[1,0]+cm1[1,1])\n",
    "    cutoff_df.loc[i] =[ i ,accuracy,sensi,speci]\n",
    "print(cutoff_df)"
   ]
  },
  {
   "cell_type": "code",
   "execution_count": 26,
   "id": "522efea1",
   "metadata": {},
   "outputs": [
    {
     "data": {
      "image/png": "[encoded data removed]",
      "text/plain": [
       "<Figure size 640x480 with 1 Axes>"
      ]
     },
     "metadata": {},
     "output_type": "display_data"
    }
   ],
   "source": [
    "# Let's plot accuracy sensitivity and specificity for various probabilities.\n",
    "cutoff_df.plot.line(x='prob', y=['accuracy','sensi','speci'])\n",
    "plt.show()"
   ]
  },
  {
   "cell_type": "markdown",
   "id": "4490f235",
   "metadata": {},
   "source": [
    "#### From the curve above , 0.2 is the optimum point to be taken as cut-off probability"
   ]
  },
  {
   "cell_type": "code",
   "execution_count": 27,
   "id": "a73bc3ad",
   "metadata": {},
   "outputs": [
    {
     "data": {
      "text/html": [
       "<div>\n",
       "<style scoped>\n",
       "    .dataframe tbody tr th:only-of-type {\n",
       "        vertical-align: middle;\n",
       "    }\n",
       "\n",
       "    .dataframe tbody tr th {\n",
       "        vertical-align: top;\n",
       "    }\n",
       "\n",
       "    .dataframe thead th {\n",
       "        text-align: right;\n",
       "    }\n",
       "</style>\n",
       "<table border=\"1\" class=\"dataframe\">\n",
       "  <thead>\n",
       "    <tr style=\"text-align: right;\">\n",
       "      <th></th>\n",
       "      <th>Attrition</th>\n",
       "      <th>Attrition_Prob</th>\n",
       "      <th>predicted</th>\n",
       "      <th>0.0</th>\n",
       "      <th>0.1</th>\n",
       "      <th>0.2</th>\n",
       "      <th>0.3</th>\n",
       "      <th>0.4</th>\n",
       "      <th>0.5</th>\n",
       "      <th>0.6</th>\n",
       "      <th>0.7</th>\n",
       "      <th>0.8</th>\n",
       "      <th>0.9</th>\n",
       "      <th>final_predicted</th>\n",
       "    </tr>\n",
       "  </thead>\n",
       "  <tbody>\n",
       "    <tr>\n",
       "      <th>0</th>\n",
       "      <td>0</td>\n",
       "      <td>0.164730</td>\n",
       "      <td>0</td>\n",
       "      <td>1</td>\n",
       "      <td>1</td>\n",
       "      <td>0</td>\n",
       "      <td>0</td>\n",
       "      <td>0</td>\n",
       "      <td>0</td>\n",
       "      <td>0</td>\n",
       "      <td>0</td>\n",
       "      <td>0</td>\n",
       "      <td>0</td>\n",
       "      <td>0</td>\n",
       "    </tr>\n",
       "    <tr>\n",
       "      <th>1</th>\n",
       "      <td>0</td>\n",
       "      <td>0.005765</td>\n",
       "      <td>0</td>\n",
       "      <td>1</td>\n",
       "      <td>0</td>\n",
       "      <td>0</td>\n",
       "      <td>0</td>\n",
       "      <td>0</td>\n",
       "      <td>0</td>\n",
       "      <td>0</td>\n",
       "      <td>0</td>\n",
       "      <td>0</td>\n",
       "      <td>0</td>\n",
       "      <td>0</td>\n",
       "    </tr>\n",
       "    <tr>\n",
       "      <th>2</th>\n",
       "      <td>0</td>\n",
       "      <td>0.190754</td>\n",
       "      <td>0</td>\n",
       "      <td>1</td>\n",
       "      <td>1</td>\n",
       "      <td>0</td>\n",
       "      <td>0</td>\n",
       "      <td>0</td>\n",
       "      <td>0</td>\n",
       "      <td>0</td>\n",
       "      <td>0</td>\n",
       "      <td>0</td>\n",
       "      <td>0</td>\n",
       "      <td>0</td>\n",
       "    </tr>\n",
       "    <tr>\n",
       "      <th>3</th>\n",
       "      <td>1</td>\n",
       "      <td>0.427422</td>\n",
       "      <td>0</td>\n",
       "      <td>1</td>\n",
       "      <td>1</td>\n",
       "      <td>1</td>\n",
       "      <td>1</td>\n",
       "      <td>1</td>\n",
       "      <td>0</td>\n",
       "      <td>0</td>\n",
       "      <td>0</td>\n",
       "      <td>0</td>\n",
       "      <td>0</td>\n",
       "      <td>1</td>\n",
       "    </tr>\n",
       "    <tr>\n",
       "      <th>4</th>\n",
       "      <td>0</td>\n",
       "      <td>0.120162</td>\n",
       "      <td>0</td>\n",
       "      <td>1</td>\n",
       "      <td>1</td>\n",
       "      <td>0</td>\n",
       "      <td>0</td>\n",
       "      <td>0</td>\n",
       "      <td>0</td>\n",
       "      <td>0</td>\n",
       "      <td>0</td>\n",
       "      <td>0</td>\n",
       "      <td>0</td>\n",
       "      <td>0</td>\n",
       "    </tr>\n",
       "  </tbody>\n",
       "</table>\n",
       "</div>"
      ],
      "text/plain": [
       "   Attrition  Attrition_Prob  predicted  0.0  0.1  0.2  0.3  0.4  0.5  0.6  \\\n",
       "0          0        0.164730          0    1    1    0    0    0    0    0   \n",
       "1          0        0.005765          0    1    0    0    0    0    0    0   \n",
       "2          0        0.190754          0    1    1    0    0    0    0    0   \n",
       "3          1        0.427422          0    1    1    1    1    1    0    0   \n",
       "4          0        0.120162          0    1    1    0    0    0    0    0   \n",
       "\n",
       "   0.7  0.8  0.9  final_predicted  \n",
       "0    0    0    0                0  \n",
       "1    0    0    0                0  \n",
       "2    0    0    0                0  \n",
       "3    0    0    0                1  \n",
       "4    0    0    0                0  "
      ]
     },
     "execution_count": 27,
     "metadata": {},
     "output_type": "execute_result"
    }
   ],
   "source": [
    "y_train_pred_final['final_predicted'] = y_train_pred_final.Attrition_Prob.map( lambda x: 1 if x > 0.2 else 0)\n",
    "\n",
    "y_train_pred_final.head()"
   ]
  },
  {
   "cell_type": "code",
   "execution_count": 28,
   "id": "97f45d55",
   "metadata": {},
   "outputs": [
    {
     "data": {
      "image/png": "[encoded data removed]",
      "text/plain": [
       "<Figure size 640x480 with 2 Axes>"
      ]
     },
     "metadata": {},
     "output_type": "display_data"
    }
   ],
   "source": [
    "cm2 = confusion_matrix(y_train_pred_final.Attrition, y_train_pred_final.final_predicted)\n",
    "sns.heatmap(cm, annot=True)\n",
    "plt.show()"
   ]
  },
  {
   "cell_type": "code",
   "execution_count": 29,
   "id": "b1bfe735",
   "metadata": {},
   "outputs": [
    {
     "name": "stdout",
     "output_type": "stream",
     "text": [
      "              precision    recall  f1-score   support\n",
      "\n",
      "           0       0.94      0.81      0.87       862\n",
      "           1       0.44      0.75      0.56       167\n",
      "\n",
      "    accuracy                           0.80      1029\n",
      "   macro avg       0.69      0.78      0.71      1029\n",
      "weighted avg       0.86      0.80      0.82      1029\n",
      "\n"
     ]
    }
   ],
   "source": [
    "print(classification_report(y_train_pred_final.Attrition, y_train_pred_final.final_predicted))"
   ]
  },
  {
   "cell_type": "code",
   "execution_count": 30,
   "id": "28e619c1",
   "metadata": {},
   "outputs": [],
   "source": [
    "TP = cm2[1,1] # true positive \n",
    "TN = cm2[0,0] # true negatives\n",
    "FP = cm2[0,1] # false positives\n",
    "FN = cm2[1,0] # false negatives"
   ]
  },
  {
   "cell_type": "code",
   "execution_count": 31,
   "id": "963032cd",
   "metadata": {},
   "outputs": [
    {
     "data": {
      "text/plain": [
       "0.7544910179640718"
      ]
     },
     "execution_count": 31,
     "metadata": {},
     "output_type": "execute_result"
    }
   ],
   "source": [
    "# Let's see the sensitivity of our logistic regression model\n",
    "TP / float(TP+FN)"
   ]
  },
  {
   "cell_type": "code",
   "execution_count": 32,
   "id": "7d6c2aa9",
   "metadata": {},
   "outputs": [
    {
     "data": {
      "text/plain": [
       "0.8132250580046404"
      ]
     },
     "execution_count": 32,
     "metadata": {},
     "output_type": "execute_result"
    }
   ],
   "source": [
    "# Let us calculate specificity\n",
    "TN / float(TN+FP)"
   ]
  },
  {
   "cell_type": "code",
   "execution_count": 33,
   "id": "8241cdd9",
   "metadata": {},
   "outputs": [
    {
     "name": "stdout",
     "output_type": "stream",
     "text": [
      "0.18677494199535963\n"
     ]
    }
   ],
   "source": [
    "# Calculate false postive rate - predicting Attrition when employee stayed\n",
    "print(FP/ float(TN+FP))"
   ]
  },
  {
   "cell_type": "code",
   "execution_count": 34,
   "id": "ea9a9b45",
   "metadata": {},
   "outputs": [
    {
     "name": "stdout",
     "output_type": "stream",
     "text": [
      "0.43902439024390244\n"
     ]
    }
   ],
   "source": [
    "# Positive predictive value \n",
    "print (TP / float(TP+FP))"
   ]
  },
  {
   "cell_type": "code",
   "execution_count": 35,
   "id": "0b6ad3e7",
   "metadata": {},
   "outputs": [
    {
     "name": "stdout",
     "output_type": "stream",
     "text": [
      "0.944743935309973\n"
     ]
    }
   ],
   "source": [
    "# Negative predictive value\n",
    "print (TN / float(TN+ FN))"
   ]
  },
  {
   "cell_type": "markdown",
   "id": "0bee5437",
   "metadata": {},
   "source": [
    "## <font color = 'blue'> Determining top features based on Final Model"
   ]
  },
  {
   "cell_type": "code",
   "execution_count": 36,
   "id": "d515b204",
   "metadata": {},
   "outputs": [
    {
     "data": {
      "text/plain": [
       "const                               -2.60\n",
       "BusinessTravel_Travel_Frequently     0.93\n",
       "Department_Research & Development   -0.90\n",
       "EducationField_Life Sciences        -0.60\n",
       "EducationField_Medical              -0.93\n",
       "EducationField_Other                -0.60\n",
       "JobRole_Laboratory Technician        1.04\n",
       "MaritalStatus_Single                 1.03\n",
       "EnvironmentSatisfaction             -0.44\n",
       "JobLevel                            -0.69\n",
       "NumCompaniesWorked                   0.40\n",
       "OverTime                             1.79\n",
       "TotalWorkingYears                   -0.34\n",
       "YearsInCurrentRole                  -0.56\n",
       "YearsSinceLastPromotion              0.99\n",
       "YearsWithCurrManager                -0.49\n",
       "dtype: float64"
      ]
     },
     "execution_count": 36,
     "metadata": {},
     "output_type": "execute_result"
    }
   ],
   "source": [
    "pd.options.display.float_format = '{:.2f}'.format # Setting format option\n",
    "res.params"
   ]
  },
  {
   "cell_type": "code",
   "execution_count": 37,
   "id": "b2615648",
   "metadata": {},
   "outputs": [
    {
     "data": {
      "text/plain": [
       "OverTime                             100.00\n",
       "JobRole_Laboratory Technician         58.29\n",
       "MaritalStatus_Single                  57.41\n",
       "YearsSinceLastPromotion               55.28\n",
       "BusinessTravel_Travel_Frequently      51.85\n",
       "NumCompaniesWorked                    22.55\n",
       "TotalWorkingYears                    -19.17\n",
       "EnvironmentSatisfaction              -24.42\n",
       "YearsWithCurrManager                 -27.32\n",
       "YearsInCurrentRole                   -31.21\n",
       "EducationField_Other                 -33.26\n",
       "EducationField_Life Sciences         -33.55\n",
       "JobLevel                             -38.76\n",
       "Department_Research & Development    -50.30\n",
       "EducationField_Medical               -51.75\n",
       "const                               -145.17\n",
       "dtype: float64"
      ]
     },
     "execution_count": 37,
     "metadata": {},
     "output_type": "execute_result"
    }
   ],
   "source": [
    "#Getting a relative coeffient value for all the features wrt the feature with the highest coefficient:-\n",
    "\n",
    "top_feature = res.params\n",
    "top_feature = 100.0 * (top_feature / top_feature.max())\n",
    "top_feature.sort_values(ascending = False)"
   ]
  }
 ],
 "metadata": {
  "kernelspec": {
   "display_name": "Python 3 (ipykernel)",
   "language": "python",
   "name": "python3"
  },
  "language_info": {
   "codemirror_mode": {
    "name": "ipython",
    "version": 3
   },
   "file_extension": ".py",
   "mimetype": "text/x-python",
   "name": "python",
   "nbconvert_exporter": "python",
   "pygments_lexer": "ipython3",
   "version": "3.11.4"
  }
 },
 "nbformat": 4,
 "nbformat_minor": 5
}
